{
 "cells": [
  {
   "cell_type": "markdown",
   "metadata": {},
   "source": [
    "Imagine the robot is powered up at a random configuration $\\theta^0$ such that $T_{sb}(\\theta^0) = T^0$, and its first task is to move to a $\\theta^*$ satisfying $T_{sb}(\\theta^*) = T_{sd}$. Part 1 of this assignment deals with calculating an appropriate $\\theta^*$. In this part, you will consider how to actually control the robot to move from rest at $\\theta^0$ to rest at $\\theta^*$ in $t_f$ seconds."
   ]
  },
  {
   "cell_type": "markdown",
   "metadata": {},
   "source": [
    "(a) If you decide to move at constant joint speeds, what joint speed vector $\\dot{\\theta}$ do you command to\n",
    "the joints? Your answer should be symbolic in terms of relevant variables"
   ]
  },
  {
   "cell_type": "markdown",
   "metadata": {},
   "source": [
    "**Answer**: \n",
    "$$\n",
    "\\Delta \\theta = \\theta^* - \\theta^0 = \\dot{\\theta}\\cdot t_f\n",
    "$$\n",
    "$$\n",
    "Thus,\\ \\dot{\\theta} = \\frac{\\theta^* - \\theta^0}{t_f}\n",
    "$$"
   ]
  },
  {
   "cell_type": "markdown",
   "metadata": {},
   "source": [
    "(b) If you decide to make the last link of the robot follow a single constant twist from $T^0$ to $R_{sd}$, what joint speed vector $\\dot{\\theta}(0)$ do you command to the joints at time $t = 0$? What is the commanded joint speed vector $\\dot{\\theta}(t_f/2)$, halfway through the motion? Your answers should be symbolic in terms of relevant variables. Use the function ***vec(***$[\\mathcal{V}]$***)*** to convert $[\\mathcal{V}]\\in se(3)$ to the twist $\\mathcal{V}\\in \\R^6$, and assume you have access to the body Jacobian $J_b(\\theta)$.\n"
   ]
  },
  {
   "cell_type": "markdown",
   "metadata": {},
   "source": [
    "**Answer**: \n",
    "* Determine the Twist $\\mathcal{V}$ to move from $T^0$ to $T_{sb}$\n",
    "  $$ \\mathcal{V} = \\frac{vec(log((T^0)^{-1}T_{sd}))}{t_f} $$\n",
    "\n",
    "* Determine $\\dot{\\theta}(0)$\n",
    "  $$\n",
    "  \\mathcal{V} = J_b(\\theta^0)\\dot{\\theta}(0)\n",
    "  \\\\\n",
    "  \\dot{\\theta}(0)=J_b(\\theta^0)^{-1}\\mathcal{V}\n",
    "  $$\n",
    "  $$\n",
    "  Thus,\\ \\dot{\\theta}(0) = \\frac{J_b(\\theta^0)^{-1}  vec(log((T^0)^{-1}T_{sd}))}{t_f}\n",
    "  $$\n",
    "\n",
    "* Determine $\\dot{\\theta}(t_f/2)$\n",
    "  $$\n",
    "  \\dot{\\theta}({t_f/2})=J_b(\\theta^{t_f/2})^{-1}\\mathcal{V}\n",
    "  $$\n",
    "  $$\n",
    "  Thus,\\ \\dot{\\theta}({t_f/2}) = \\frac{J_b(\\theta^{t_f/2})^{-1}  vec(log((T^0)^{-1}T_{sd}))}{t_f}\n",
    "  $$\n"
   ]
  },
  {
   "cell_type": "markdown",
   "metadata": {},
   "source": [
    "(c) Do you see any advantages to using the approach in (a) relative to (b), or vice-versa?"
   ]
  },
  {
   "cell_type": "markdown",
   "metadata": {},
   "source": [
    "**Answer**:\n",
    "* (a) is more simple in control strategy and has lower computational cost.\n",
    "* (a) lacks direct cartesian path control for end effector, which can be dangerous in real world. (b) directly uses the information in cartesian space. "
   ]
  }
 ],
 "metadata": {
  "language_info": {
   "name": "python"
  }
 },
 "nbformat": 4,
 "nbformat_minor": 2
}
